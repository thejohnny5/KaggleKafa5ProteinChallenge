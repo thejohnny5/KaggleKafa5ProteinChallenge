{
 "cells": [
  {
   "cell_type": "code",
   "execution_count": 1,
   "id": "876f3225",
   "metadata": {},
   "outputs": [],
   "source": [
    "import pandas as pd\n",
    "import os"
   ]
  },
  {
   "cell_type": "code",
   "execution_count": 2,
   "id": "94715e09",
   "metadata": {},
   "outputs": [],
   "source": [
    "RESULTS_DIR = \"./tmp_results/\"\n",
    "dataframes = [pd.read_csv(os.path.join(RESULTS_DIR, frame)) for i, frame in enumerate(os.listdir(RESULTS_DIR)) if i<=20]"
   ]
  },
  {
   "cell_type": "code",
   "execution_count": 3,
   "id": "fe7be26a",
   "metadata": {},
   "outputs": [],
   "source": [
    "df = pd.concat(dataframes)"
   ]
  },
  {
   "cell_type": "code",
   "execution_count": 4,
   "id": "81f76f83",
   "metadata": {},
   "outputs": [
    {
     "data": {
      "text/html": [
       "<div>\n",
       "<style scoped>\n",
       "    .dataframe tbody tr th:only-of-type {\n",
       "        vertical-align: middle;\n",
       "    }\n",
       "\n",
       "    .dataframe tbody tr th {\n",
       "        vertical-align: top;\n",
       "    }\n",
       "\n",
       "    .dataframe thead th {\n",
       "        text-align: right;\n",
       "    }\n",
       "</style>\n",
       "<table border=\"1\" class=\"dataframe\">\n",
       "  <thead>\n",
       "    <tr style=\"text-align: right;\">\n",
       "      <th></th>\n",
       "      <th>query acc.ver</th>\n",
       "      <th>subject acc.ver</th>\n",
       "      <th>Percent identity</th>\n",
       "      <th>alignment length</th>\n",
       "      <th>mismatches</th>\n",
       "      <th>gap opens</th>\n",
       "      <th>q.start</th>\n",
       "      <th>q.end</th>\n",
       "      <th>s.start</th>\n",
       "      <th>s.end</th>\n",
       "      <th>evalue</th>\n",
       "      <th>bit score</th>\n",
       "    </tr>\n",
       "  </thead>\n",
       "  <tbody>\n",
       "    <tr>\n",
       "      <th>0</th>\n",
       "      <td>Q7ZZ22</td>\n",
       "      <td>B3DGZ9</td>\n",
       "      <td>99.862</td>\n",
       "      <td>723</td>\n",
       "      <td>1</td>\n",
       "      <td>0</td>\n",
       "      <td>1</td>\n",
       "      <td>723</td>\n",
       "      <td>459</td>\n",
       "      <td>1181</td>\n",
       "      <td>0.0</td>\n",
       "      <td>1496</td>\n",
       "    </tr>\n",
       "    <tr>\n",
       "      <th>1</th>\n",
       "      <td>Q7ZZ22</td>\n",
       "      <td>F1QYZ6</td>\n",
       "      <td>99.723</td>\n",
       "      <td>723</td>\n",
       "      <td>2</td>\n",
       "      <td>0</td>\n",
       "      <td>1</td>\n",
       "      <td>723</td>\n",
       "      <td>459</td>\n",
       "      <td>1181</td>\n",
       "      <td>0.0</td>\n",
       "      <td>1493</td>\n",
       "    </tr>\n",
       "    <tr>\n",
       "      <th>2</th>\n",
       "      <td>Q7ZZ22</td>\n",
       "      <td>Q9DDT1</td>\n",
       "      <td>99.585</td>\n",
       "      <td>723</td>\n",
       "      <td>2</td>\n",
       "      <td>1</td>\n",
       "      <td>1</td>\n",
       "      <td>723</td>\n",
       "      <td>459</td>\n",
       "      <td>1180</td>\n",
       "      <td>0.0</td>\n",
       "      <td>1488</td>\n",
       "    </tr>\n",
       "    <tr>\n",
       "      <th>3</th>\n",
       "      <td>Q7ZZ22</td>\n",
       "      <td>A0A0R4IFJ4</td>\n",
       "      <td>90.456</td>\n",
       "      <td>723</td>\n",
       "      <td>69</td>\n",
       "      <td>0</td>\n",
       "      <td>1</td>\n",
       "      <td>723</td>\n",
       "      <td>459</td>\n",
       "      <td>1181</td>\n",
       "      <td>0.0</td>\n",
       "      <td>1367</td>\n",
       "    </tr>\n",
       "    <tr>\n",
       "      <th>4</th>\n",
       "      <td>Q7ZZ22</td>\n",
       "      <td>A0A024R5C5</td>\n",
       "      <td>81.692</td>\n",
       "      <td>721</td>\n",
       "      <td>132</td>\n",
       "      <td>0</td>\n",
       "      <td>1</td>\n",
       "      <td>721</td>\n",
       "      <td>457</td>\n",
       "      <td>1177</td>\n",
       "      <td>0.0</td>\n",
       "      <td>1258</td>\n",
       "    </tr>\n",
       "  </tbody>\n",
       "</table>\n",
       "</div>"
      ],
      "text/plain": [
       "  query acc.ver subject acc.ver  Percent identity  alignment length  \\\n",
       "0        Q7ZZ22          B3DGZ9            99.862               723   \n",
       "1        Q7ZZ22          F1QYZ6            99.723               723   \n",
       "2        Q7ZZ22          Q9DDT1            99.585               723   \n",
       "3        Q7ZZ22      A0A0R4IFJ4            90.456               723   \n",
       "4        Q7ZZ22      A0A024R5C5            81.692               721   \n",
       "\n",
       "   mismatches  gap opens  q.start  q.end  s.start  s.end  evalue  bit score  \n",
       "0           1          0        1    723      459   1181     0.0       1496  \n",
       "1           2          0        1    723      459   1181     0.0       1493  \n",
       "2           2          1        1    723      459   1180     0.0       1488  \n",
       "3          69          0        1    723      459   1181     0.0       1367  \n",
       "4         132          0        1    721      457   1177     0.0       1258  "
      ]
     },
     "execution_count": 4,
     "metadata": {},
     "output_type": "execute_result"
    }
   ],
   "source": [
    "df.head()"
   ]
  },
  {
   "cell_type": "code",
   "execution_count": 5,
   "id": "e54c781b",
   "metadata": {},
   "outputs": [
    {
     "data": {
      "text/plain": [
       "60390"
      ]
     },
     "execution_count": 5,
     "metadata": {},
     "output_type": "execute_result"
    }
   ],
   "source": [
    "len(df)"
   ]
  },
  {
   "cell_type": "code",
   "execution_count": 6,
   "id": "77e6655d",
   "metadata": {},
   "outputs": [],
   "source": [
    "df_train_terms = pd.read_csv(\"./Data/cafa5protein/Train/train_terms.tsv\", header=None, sep=\"\\t\")"
   ]
  },
  {
   "cell_type": "code",
   "execution_count": 7,
   "id": "254507cf",
   "metadata": {},
   "outputs": [
    {
     "name": "stdout",
     "output_type": "stream",
     "text": [
      "             0           1    2\n",
      "292008  B3DGZ9  GO:0010038  BPO\n",
      "292009  B3DGZ9  GO:0010035  BPO\n",
      "292010  B3DGZ9  GO:0050896  BPO\n",
      "292011  B3DGZ9  GO:0042221  BPO\n",
      "292012  B3DGZ9  GO:0008150  BPO\n",
      "292013  B3DGZ9  GO:0046686  BPO\n"
     ]
    }
   ],
   "source": [
    "print(df_train_terms[df_train_terms[0]==\"B3DGZ9\"])"
   ]
  },
  {
   "cell_type": "code",
   "execution_count": 8,
   "id": "1a9d49ee",
   "metadata": {},
   "outputs": [
    {
     "name": "stdout",
     "output_type": "stream",
     "text": [
      "             0           1    2\n",
      "451610  F1QYZ6  GO:0010038  BPO\n",
      "451611  F1QYZ6  GO:0010035  BPO\n",
      "451612  F1QYZ6  GO:0050896  BPO\n",
      "451613  F1QYZ6  GO:0042221  BPO\n",
      "451614  F1QYZ6  GO:0008150  BPO\n",
      "451615  F1QYZ6  GO:0046686  BPO\n"
     ]
    }
   ],
   "source": [
    "print(df_train_terms[df_train_terms[0]==\"F1QYZ6\"])"
   ]
  },
  {
   "cell_type": "code",
   "execution_count": 10,
   "id": "68002198",
   "metadata": {},
   "outputs": [
    {
     "name": "stdout",
     "output_type": "stream",
     "text": [
      "                0           1    2\n",
      "60770  A0A0R4IFJ4  GO:0007612  BPO\n",
      "60771  A0A0R4IFJ4  GO:0007611  BPO\n",
      "60772  A0A0R4IFJ4  GO:0046958  BPO\n",
      "60773  A0A0R4IFJ4  GO:0050890  BPO\n",
      "60774  A0A0R4IFJ4  GO:0046959  BPO\n",
      "60775  A0A0R4IFJ4  GO:0003008  BPO\n",
      "60776  A0A0R4IFJ4  GO:0050877  BPO\n",
      "60777  A0A0R4IFJ4  GO:0032501  BPO\n",
      "60778  A0A0R4IFJ4  GO:0007610  BPO\n",
      "60779  A0A0R4IFJ4  GO:0008150  BPO\n"
     ]
    }
   ],
   "source": [
    "print(df_train_terms[df_train_terms[0]==\"A0A0R4IFJ4\"])"
   ]
  },
  {
   "cell_type": "code",
   "execution_count": 19,
   "id": "e3f4a4b8",
   "metadata": {},
   "outputs": [],
   "source": [
    "subset_train_terms = df_train_terms[df_train_terms[1]==\"GO:0010038\"]\n",
    "subset_train_terms.columns = [\"query acc.ver\", \"query GO term\", \"cat\"]\n",
    "subset_train_terms2 = subset_train_terms.copy()\n",
    "subset_train_terms2.columns = [\"subject acc.ver\", \"subject GO term\", \"subject cat\"]"
   ]
  },
  {
   "cell_type": "code",
   "execution_count": 20,
   "id": "08f8e7e2",
   "metadata": {},
   "outputs": [],
   "source": [
    "df_test = df.merge(subset_train_terms, how=\"left\", on=\"query acc.ver\")\n",
    "df_test = df_test.merge(subset_train_terms2, how=\"left\", on=\"subject acc.ver\")"
   ]
  },
  {
   "cell_type": "code",
   "execution_count": 21,
   "id": "93c20fa8",
   "metadata": {},
   "outputs": [
    {
     "data": {
      "text/plain": [
       "60390"
      ]
     },
     "execution_count": 21,
     "metadata": {},
     "output_type": "execute_result"
    }
   ],
   "source": [
    "len(df_test)"
   ]
  },
  {
   "cell_type": "code",
   "execution_count": 31,
   "id": "9071aede",
   "metadata": {},
   "outputs": [
    {
     "name": "stdout",
     "output_type": "stream",
     "text": [
      "1098\n"
     ]
    }
   ],
   "source": [
    "df_test_pos = df_test[(~pd.isnull(df_test[\"query GO term\"]))]\n",
    "print(len(df_test_pos))\n",
    "df_test_pos = df_test_pos[~pd.isnull(df_test_pos[\"subject GO term\"])]"
   ]
  },
  {
   "cell_type": "code",
   "execution_count": 33,
   "id": "e0006087",
   "metadata": {},
   "outputs": [
    {
     "name": "stdout",
     "output_type": "stream",
     "text": [
      "63\n"
     ]
    }
   ],
   "source": [
    "print(len(df_test_pos))"
   ]
  },
  {
   "cell_type": "code",
   "execution_count": 34,
   "id": "cf53b1b6",
   "metadata": {},
   "outputs": [
    {
     "name": "stdout",
     "output_type": "stream",
     "text": [
      "      query acc.ver subject acc.ver  Percent identity  alignment length  \\\n",
      "0            Q7ZZ22          B3DGZ9            99.862               723   \n",
      "1            Q7ZZ22          F1QYZ6            99.723               723   \n",
      "2            Q7ZZ22          Q9DDT1            99.585               723   \n",
      "20           Q7ZZ22          Q58EN6            99.281               139   \n",
      "3849         P21707          P21579            97.867               422   \n",
      "...             ...             ...               ...               ...   \n",
      "49097        Q01818          Q01827            61.583               518   \n",
      "49117        Q56955          Q56954            37.329               292   \n",
      "54467        P25122          P22462            66.721               619   \n",
      "54487        P25122          P15387            36.575               473   \n",
      "54493        P25122          P16388            38.235               442   \n",
      "\n",
      "       mismatches  gap opens  q.start  q.end  s.start  s.end        evalue  \\\n",
      "0               1          0        1    723      459   1181  0.000000e+00   \n",
      "1               2          0        1    723      459   1181  0.000000e+00   \n",
      "2               2          1        1    723      459   1180  0.000000e+00   \n",
      "20              1          0      585    723        2    140  2.380000e-89   \n",
      "3849            8          1        1    421        1    422  0.000000e+00   \n",
      "...           ...        ...      ...    ...      ...    ...           ...   \n",
      "49097         178          5       11    519       10    515  0.000000e+00   \n",
      "49117         183          0        4    295        1    292  1.010000e-58   \n",
      "54467         125         11        1    564        1    593  0.000000e+00   \n",
      "54487         231          9        7    468       30    444  4.430000e-94   \n",
      "54493         204         10        8    443       37    415  2.450000e-87   \n",
      "\n",
      "       bit score query GO term  cat subject GO term subject cat  \n",
      "0           1496    GO:0010038  BPO      GO:0010038         BPO  \n",
      "1           1493    GO:0010038  BPO      GO:0010038         BPO  \n",
      "2           1488    GO:0010038  BPO      GO:0010038         BPO  \n",
      "20           278    GO:0010038  BPO      GO:0010038         BPO  \n",
      "3849         845    GO:0010038  BPO      GO:0010038         BPO  \n",
      "...          ...           ...  ...             ...         ...  \n",
      "49097        617    GO:0010038  BPO      GO:0010038         BPO  \n",
      "49117        191    GO:0010038  BPO      GO:0010038         BPO  \n",
      "54467        757    GO:0010038  BPO      GO:0010038         BPO  \n",
      "54487        308    GO:0010038  BPO      GO:0010038         BPO  \n",
      "54493        281    GO:0010038  BPO      GO:0010038         BPO  \n",
      "\n",
      "[63 rows x 16 columns]\n"
     ]
    }
   ],
   "source": [
    "print(df_test_pos)"
   ]
  },
  {
   "cell_type": "code",
   "execution_count": null,
   "id": "f2234b82",
   "metadata": {},
   "outputs": [],
   "source": []
  }
 ],
 "metadata": {
  "kernelspec": {
   "display_name": "Python 3 (ipykernel)",
   "language": "python",
   "name": "python3"
  },
  "language_info": {
   "codemirror_mode": {
    "name": "ipython",
    "version": 3
   },
   "file_extension": ".py",
   "mimetype": "text/x-python",
   "name": "python",
   "nbconvert_exporter": "python",
   "pygments_lexer": "ipython3",
   "version": "3.9.7"
  }
 },
 "nbformat": 4,
 "nbformat_minor": 5
}
