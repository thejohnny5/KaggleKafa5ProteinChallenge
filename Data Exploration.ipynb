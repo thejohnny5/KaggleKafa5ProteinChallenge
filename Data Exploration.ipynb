{
 "cells": [
  {
   "cell_type": "code",
   "execution_count": 1,
   "id": "07dab60c",
   "metadata": {},
   "outputs": [],
   "source": [
    "import pandas as pd\n",
    "from src.parsing import parse_GO\n",
    "from src.data_load import Dataset\n",
    "import os\n",
    "from Bio.Seq import Seq\n",
    "from Bio import SeqIO\n",
    "import matplotlib.pyplot as plt\n",
    "from src.data_load import fetch_taxa"
   ]
  },
  {
   "cell_type": "markdown",
   "id": "ac8af235",
   "metadata": {},
   "source": [
    "Paths for data files below"
   ]
  },
  {
   "cell_type": "code",
   "execution_count": 2,
   "id": "15e1d285",
   "metadata": {},
   "outputs": [],
   "source": [
    "TRAIN_ROOT = \"./Data/cafa5protein/Train/\"\n",
    "go_path = os.path.join(TRAIN_ROOT, \"go-basic.obo\")\n",
    "train_sequences_path = os.path.join(TRAIN_ROOT, \"train_sequences.fasta\")\n",
    "train_taxonomy_path = os.path.join(TRAIN_ROOT, \"train_taxonomy.tsv\")\n",
    "train_terms_path = os.path.join(TRAIN_ROOT, \"train_terms.tsv\")"
   ]
  },
  {
   "cell_type": "code",
   "execution_count": 3,
   "id": "75d4fb17",
   "metadata": {},
   "outputs": [],
   "source": [
    "\"\"\"Get data files\"\"\"\n",
    "go_terms = parse_GO(go_path)"
   ]
  },
  {
   "cell_type": "code",
   "execution_count": 4,
   "id": "78b6e69c",
   "metadata": {},
   "outputs": [],
   "source": [
    "fasta_sequences = SeqIO.parse(open(train_sequences_path),'fasta')\n",
    "fastas = []\n",
    "for fasta in fasta_sequences:\n",
    "     fastas.append({\"id\": fasta.id, \"seq\": fasta})"
   ]
  },
  {
   "cell_type": "code",
   "execution_count": 5,
   "id": "e215d639",
   "metadata": {},
   "outputs": [],
   "source": [
    "train_data = Dataset(pd.DataFrame(fastas), \n",
    "                     pd.read_csv(train_taxonomy_path, sep=\"\\t\"), \n",
    "                     pd.read_csv(train_terms_path, sep=\"\\t\"))"
   ]
  },
  {
   "cell_type": "code",
   "execution_count": 6,
   "id": "18f70927",
   "metadata": {},
   "outputs": [
    {
     "data": {
      "text/html": [
       "<div>\n",
       "<style scoped>\n",
       "    .dataframe tbody tr th:only-of-type {\n",
       "        vertical-align: middle;\n",
       "    }\n",
       "\n",
       "    .dataframe tbody tr th {\n",
       "        vertical-align: top;\n",
       "    }\n",
       "\n",
       "    .dataframe thead th {\n",
       "        text-align: right;\n",
       "    }\n",
       "</style>\n",
       "<table border=\"1\" class=\"dataframe\">\n",
       "  <thead>\n",
       "    <tr style=\"text-align: right;\">\n",
       "      <th></th>\n",
       "      <th>EntryID</th>\n",
       "      <th>taxonomyID</th>\n",
       "    </tr>\n",
       "  </thead>\n",
       "  <tbody>\n",
       "    <tr>\n",
       "      <th>0</th>\n",
       "      <td>Q8IXT2</td>\n",
       "      <td>9606</td>\n",
       "    </tr>\n",
       "    <tr>\n",
       "      <th>1</th>\n",
       "      <td>Q04418</td>\n",
       "      <td>559292</td>\n",
       "    </tr>\n",
       "    <tr>\n",
       "      <th>2</th>\n",
       "      <td>A8DYA3</td>\n",
       "      <td>7227</td>\n",
       "    </tr>\n",
       "    <tr>\n",
       "      <th>3</th>\n",
       "      <td>Q9UUI3</td>\n",
       "      <td>284812</td>\n",
       "    </tr>\n",
       "    <tr>\n",
       "      <th>4</th>\n",
       "      <td>Q57ZS4</td>\n",
       "      <td>185431</td>\n",
       "    </tr>\n",
       "  </tbody>\n",
       "</table>\n",
       "</div>"
      ],
      "text/plain": [
       "  EntryID  taxonomyID\n",
       "0  Q8IXT2        9606\n",
       "1  Q04418      559292\n",
       "2  A8DYA3        7227\n",
       "3  Q9UUI3      284812\n",
       "4  Q57ZS4      185431"
      ]
     },
     "execution_count": 6,
     "metadata": {},
     "output_type": "execute_result"
    }
   ],
   "source": [
    "train_data.taxonomy.head()"
   ]
  },
  {
   "cell_type": "markdown",
   "id": "f1a2c8fd",
   "metadata": {},
   "source": [
    "In train taxonomy, start with checking the number of unique entryIDs, unique taxonomyIDs, and then total number of entries."
   ]
  },
  {
   "cell_type": "code",
   "execution_count": 7,
   "id": "6ec8e0fe",
   "metadata": {},
   "outputs": [
    {
     "name": "stdout",
     "output_type": "stream",
     "text": [
      "Number of EntryIDS: 142246\n",
      "Number of taxonomic IDS: 3156\n",
      "Total Length: 142246\n"
     ]
    }
   ],
   "source": [
    "print(\"Number of EntryIDS: {}\".format(len(train_data.taxonomy[\"EntryID\"].unique())))\n",
    "print(\"Number of taxonomic IDS: {}\".format(len(train_data.taxonomy[\"taxonomyID\"].unique())))\n",
    "print(\"Total Length: {}\".format(len(train_data.taxonomy)))"
   ]
  },
  {
   "cell_type": "markdown",
   "id": "a3970300",
   "metadata": {},
   "source": [
    "Check for overrepresented taxa."
   ]
  },
  {
   "cell_type": "code",
   "execution_count": 8,
   "id": "a7dace01",
   "metadata": {},
   "outputs": [],
   "source": [
    "taxa = fetch_taxa(train_data.taxonomy[\"taxonomyID\"].to_list())"
   ]
  },
  {
   "cell_type": "code",
   "execution_count": 15,
   "id": "4aa94772",
   "metadata": {},
   "outputs": [],
   "source": [
    "taxa.columns = [\"taxonomyID\"] + taxa.columns.tolist()[1:]\n"
   ]
  },
  {
   "cell_type": "code",
   "execution_count": 52,
   "id": "7455a4ca",
   "metadata": {},
   "outputs": [],
   "source": [
    "taxa.drop_duplicates(subset=[\"taxonomyID\"], inplace=True, keep=\"first\")"
   ]
  },
  {
   "cell_type": "code",
   "execution_count": 26,
   "id": "2fd76ef2",
   "metadata": {},
   "outputs": [
    {
     "name": "stdout",
     "output_type": "stream",
     "text": [
      "Length of new: 142246\n"
     ]
    }
   ],
   "source": [
    "\"\"\"Merge taxa with taxonomic ids from train dataset\"\"\"\n",
    "df_train_taxa_full = train_data.taxonomy.merge(taxa, how=\"left\", on=\"taxonomyID\")\n",
    "\"\"\"Verify length and number of unique taxa\"\"\"\n",
    "print(\"Length of new: {}\".format(len(df_train_taxa_full))) #Needs to match original length"
   ]
  },
  {
   "cell_type": "code",
   "execution_count": 27,
   "id": "61f48de1",
   "metadata": {},
   "outputs": [
    {
     "data": {
      "text/html": [
       "<div>\n",
       "<style scoped>\n",
       "    .dataframe tbody tr th:only-of-type {\n",
       "        vertical-align: middle;\n",
       "    }\n",
       "\n",
       "    .dataframe tbody tr th {\n",
       "        vertical-align: top;\n",
       "    }\n",
       "\n",
       "    .dataframe thead th {\n",
       "        text-align: right;\n",
       "    }\n",
       "</style>\n",
       "<table border=\"1\" class=\"dataframe\">\n",
       "  <thead>\n",
       "    <tr style=\"text-align: right;\">\n",
       "      <th></th>\n",
       "      <th>EntryID</th>\n",
       "      <th>taxonomyID</th>\n",
       "      <th>ScientificName</th>\n",
       "      <th>Rank</th>\n",
       "      <th>Division</th>\n",
       "      <th>GeneticCode</th>\n",
       "      <th>MitoGeneticCode</th>\n",
       "      <th>CreateDate</th>\n",
       "    </tr>\n",
       "  </thead>\n",
       "  <tbody>\n",
       "    <tr>\n",
       "      <th>0</th>\n",
       "      <td>Q8IXT2</td>\n",
       "      <td>9606</td>\n",
       "      <td>Homo sapiens</td>\n",
       "      <td>species</td>\n",
       "      <td>Primates</td>\n",
       "      <td>{'GCId': '1', 'GCName': 'Standard'}</td>\n",
       "      <td>{'MGCId': '2', 'MGCName': 'Vertebrate Mitochon...</td>\n",
       "      <td>1995/02/27 09:24:00</td>\n",
       "    </tr>\n",
       "    <tr>\n",
       "      <th>1</th>\n",
       "      <td>Q04418</td>\n",
       "      <td>559292</td>\n",
       "      <td>Saccharomyces cerevisiae S288C</td>\n",
       "      <td>strain</td>\n",
       "      <td>Plants and Fungi</td>\n",
       "      <td>{'GCId': '1', 'GCName': 'Standard'}</td>\n",
       "      <td>{'MGCId': '3', 'MGCName': 'Yeast Mitochondrial'}</td>\n",
       "      <td>2008/09/09 16:05:46</td>\n",
       "    </tr>\n",
       "    <tr>\n",
       "      <th>2</th>\n",
       "      <td>A8DYA3</td>\n",
       "      <td>7227</td>\n",
       "      <td>Drosophila melanogaster</td>\n",
       "      <td>species</td>\n",
       "      <td>Invertebrates</td>\n",
       "      <td>{'GCId': '1', 'GCName': 'Standard'}</td>\n",
       "      <td>{'MGCId': '5', 'MGCName': 'Invertebrate Mitoch...</td>\n",
       "      <td>1995/02/27 09:24:00</td>\n",
       "    </tr>\n",
       "    <tr>\n",
       "      <th>3</th>\n",
       "      <td>Q9UUI3</td>\n",
       "      <td>284812</td>\n",
       "      <td>Schizosaccharomyces pombe 972h-</td>\n",
       "      <td>strain</td>\n",
       "      <td>Plants and Fungi</td>\n",
       "      <td>{'GCId': '1', 'GCName': 'Standard'}</td>\n",
       "      <td>{'MGCId': '4', 'MGCName': 'Mold Mitochondrial;...</td>\n",
       "      <td>2004/07/12 13:31:11</td>\n",
       "    </tr>\n",
       "    <tr>\n",
       "      <th>4</th>\n",
       "      <td>Q57ZS4</td>\n",
       "      <td>185431</td>\n",
       "      <td>Trypanosoma brucei brucei TREU927</td>\n",
       "      <td>strain</td>\n",
       "      <td>Invertebrates</td>\n",
       "      <td>{'GCId': '1', 'GCName': 'Standard'}</td>\n",
       "      <td>{'MGCId': '4', 'MGCName': 'Mold Mitochondrial;...</td>\n",
       "      <td>2002/01/28 08:53:00</td>\n",
       "    </tr>\n",
       "  </tbody>\n",
       "</table>\n",
       "</div>"
      ],
      "text/plain": [
       "  EntryID  taxonomyID                     ScientificName     Rank  \\\n",
       "0  Q8IXT2        9606                       Homo sapiens  species   \n",
       "1  Q04418      559292     Saccharomyces cerevisiae S288C   strain   \n",
       "2  A8DYA3        7227            Drosophila melanogaster  species   \n",
       "3  Q9UUI3      284812    Schizosaccharomyces pombe 972h-   strain   \n",
       "4  Q57ZS4      185431  Trypanosoma brucei brucei TREU927   strain   \n",
       "\n",
       "           Division                          GeneticCode  \\\n",
       "0          Primates  {'GCId': '1', 'GCName': 'Standard'}   \n",
       "1  Plants and Fungi  {'GCId': '1', 'GCName': 'Standard'}   \n",
       "2     Invertebrates  {'GCId': '1', 'GCName': 'Standard'}   \n",
       "3  Plants and Fungi  {'GCId': '1', 'GCName': 'Standard'}   \n",
       "4     Invertebrates  {'GCId': '1', 'GCName': 'Standard'}   \n",
       "\n",
       "                                     MitoGeneticCode           CreateDate  \n",
       "0  {'MGCId': '2', 'MGCName': 'Vertebrate Mitochon...  1995/02/27 09:24:00  \n",
       "1   {'MGCId': '3', 'MGCName': 'Yeast Mitochondrial'}  2008/09/09 16:05:46  \n",
       "2  {'MGCId': '5', 'MGCName': 'Invertebrate Mitoch...  1995/02/27 09:24:00  \n",
       "3  {'MGCId': '4', 'MGCName': 'Mold Mitochondrial;...  2004/07/12 13:31:11  \n",
       "4  {'MGCId': '4', 'MGCName': 'Mold Mitochondrial;...  2002/01/28 08:53:00  "
      ]
     },
     "execution_count": 27,
     "metadata": {},
     "output_type": "execute_result"
    }
   ],
   "source": [
    "df_train_taxa_full.head()"
   ]
  },
  {
   "cell_type": "code",
   "execution_count": 36,
   "id": "016fe52f",
   "metadata": {},
   "outputs": [
    {
     "data": {
      "text/plain": [
       "<AxesSubplot:>"
      ]
     },
     "execution_count": 36,
     "metadata": {},
     "output_type": "execute_result"
    },
    {
     "data": {
      "image/png": "[encoded data removed]",
      "text/plain": [
       "<Figure size 432x288 with 1 Axes>"
      ]
     },
     "metadata": {
      "needs_background": "light"
     },
     "output_type": "display_data"
    }
   ],
   "source": [
    "df_train_taxa_full[\"ScientificName\"].value_counts()[0:25].plot(kind=\"bar\")"
   ]
  },
  {
   "cell_type": "markdown",
   "id": "e936bcda",
   "metadata": {},
   "source": [
    "Now get details on the count of overrepresented taxa as well as overrepresented divisions."
   ]
  },
  {
   "cell_type": "code",
   "execution_count": 28,
   "id": "335f9868",
   "metadata": {},
   "outputs": [
    {
     "data": {
      "text/plain": [
       "Plants and Fungi    31982\n",
       "Invertebrates       25936\n",
       "Primates            25192\n",
       "Rodents             23361\n",
       "Vertebrates         15887\n",
       "Bacteria            11002\n",
       "Mammals              2029\n",
       "Viruses               661\n",
       "Phages                213\n",
       "Name: Division, dtype: int64"
      ]
     },
     "execution_count": 28,
     "metadata": {},
     "output_type": "execute_result"
    }
   ],
   "source": [
    "df_train_taxa_full[\"Division\"].value_counts()"
   ]
  },
  {
   "cell_type": "code",
   "execution_count": 37,
   "id": "a1eedc67",
   "metadata": {},
   "outputs": [
    {
     "name": "stdout",
     "output_type": "stream",
     "text": [
      "Homo sapiens                            0.176631\n",
      "Arabidopsis thaliana                    0.101662\n",
      "Mus musculus                            0.101121\n",
      "Danio rerio                             0.089078\n",
      "Drosophila melanogaster                 0.084501\n",
      "                                          ...   \n",
      "Colletotrichum gloeosporioides Cg-14    0.000007\n",
      "Psilocybe cyanescens                    0.000007\n",
      "Cryptosporidium parvum                  0.000007\n",
      "Yellow fever virus 17D                  0.000007\n",
      "Bacillus sp. GL1                        0.000007\n",
      "Name: ScientificName, Length: 626, dtype: float64\n"
     ]
    }
   ],
   "source": [
    "#Look at TaxID as percent of total\n",
    "represented_taxID = df_train_taxa_full[\"ScientificName\"].value_counts()/len(df_train_taxa_full)\n",
    "print(represented_taxID)"
   ]
  },
  {
   "cell_type": "code",
   "execution_count": 38,
   "id": "7d2b5487",
   "metadata": {},
   "outputs": [
    {
     "data": {
      "text/plain": [
       "<AxesSubplot:>"
      ]
     },
     "execution_count": 38,
     "metadata": {},
     "output_type": "execute_result"
    },
    {
     "data": {
      "image/png": "[encoded data removed]",
      "text/plain": [
       "<Figure size 432x288 with 1 Axes>"
      ]
     },
     "metadata": {
      "needs_background": "light"
     },
     "output_type": "display_data"
    }
   ],
   "source": [
    "\"\"\"Plot cumutively to see when it begins to plateu\"\"\"\n",
    "represented_taxID.cumsum().plot()\n",
    "\n",
    "#mask = df_train_taxa_full[\"taxonomyID\"].isin(represented_taxID.index.tolist()[0:499])\n",
    "#top500_represented_taxID = df_train_taxa_full[mask]"
   ]
  },
  {
   "cell_type": "code",
   "execution_count": 53,
   "id": "9009a01e",
   "metadata": {},
   "outputs": [
    {
     "name": "stdout",
     "output_type": "stream",
     "text": [
      "Homo sapiens                                                        0.176631\n",
      "Arabidopsis thaliana                                                0.101662\n",
      "Mus musculus                                                        0.101121\n",
      "Danio rerio                                                         0.089078\n",
      "Drosophila melanogaster                                             0.084501\n",
      "Rattus norvegicus                                                   0.061984\n",
      "Saccharomyces cerevisiae S288C                                      0.038447\n",
      "Trypanosoma brucei brucei TREU927                                   0.036620\n",
      "Caenorhabditis elegans                                              0.034553\n",
      "Schizosaccharomyces pombe 972h-                                     0.032577\n",
      "Escherichia coli K-12                                               0.023916\n",
      "Mycobacterium tuberculosis H37Rv                                    0.014496\n",
      "Dictyostelium discoideum                                            0.011993\n",
      "Candida albicans SC5314                                             0.010482\n",
      "Oryza sativa Japonica Group                                         0.009216\n",
      "Gallus gallus                                                       0.009125\n",
      "Plasmodium falciparum 3D7                                           0.007339\n",
      "Bos taurus                                                          0.007213\n",
      "Aspergillus nidulans FGSC A4                                        0.006475\n",
      "Pseudomonas aeruginosa PAO1                                         0.006433\n",
      "Xenopus laevis                                                      0.004816\n",
      "Sus scrofa                                                          0.003592\n",
      "Oncorhynchus mykiss                                                 0.003501\n",
      "Nakaseomyces glabratus CBS 138                                      0.003480\n",
      "Bacillus subtilis subsp. subtilis str. 168                          0.002784\n",
      "Aspergillus fumigatus Af293                                         0.002172\n",
      "Gossypium hirsutum                                                  0.001877\n",
      "Zea mays                                                            0.001828\n",
      "Salmo salar                                                         0.001743\n",
      "Desulfovibrio vulgaris str. Hildenborough                           0.001596\n",
      "Mycobacterium tuberculosis CDC1551                                  0.001483\n",
      "Oryza sativa Indica Group                                           0.001476\n",
      "Oryctolagus cuniculus                                               0.001448\n",
      "Synechocystis sp. PCC 6803 substr. Kazusa                           0.001420\n",
      "Streptococcus pneumoniae TIGR4                                      0.001371\n",
      "Leishmania major                                                    0.001322\n",
      "Trypanosoma brucei                                                  0.001223\n",
      "Canis lupus familiaris                                              0.001111\n",
      "Salmonella enterica subsp. enterica serovar Typhimurium str. LT2    0.001083\n",
      "Oryza sativa                                                        0.000998\n",
      "Aspergillus oryzae RIB40                                            0.000970\n",
      "Chlamydomonas reinhardtii                                           0.000970\n",
      "Escherichia coli                                                    0.000801\n",
      "Aspergillus niger CBS 513.88                                        0.000794\n",
      "Helicobacter pylori 26695                                           0.000780\n",
      "Ovis aries                                                          0.000745\n",
      "Solanum lycopersicum                                                0.000731\n",
      "Name: ScientificName, dtype: float64\n"
     ]
    }
   ],
   "source": [
    "top_represented = represented_taxID[represented_taxID.cumsum()<0.91]\n",
    "print(top_represented)"
   ]
  },
  {
   "cell_type": "markdown",
   "id": "29af8a39",
   "metadata": {},
   "source": [
    "The top 500 taxa appear to span the representative divisions well. \n",
    "\n",
    "POSSIBLE APPROACH: Look for orthologous proteins across either division or taxa using blast. If an orthologous protein is found - group training method by incoroporating a voting system on the result."
   ]
  },
  {
   "cell_type": "markdown",
   "id": "f6b42daa",
   "metadata": {},
   "source": [
    "Next lets look at training terms."
   ]
  },
  {
   "cell_type": "code",
   "execution_count": 39,
   "id": "fd20f8fa",
   "metadata": {},
   "outputs": [
    {
     "data": {
      "text/html": [
       "<div>\n",
       "<style scoped>\n",
       "    .dataframe tbody tr th:only-of-type {\n",
       "        vertical-align: middle;\n",
       "    }\n",
       "\n",
       "    .dataframe tbody tr th {\n",
       "        vertical-align: top;\n",
       "    }\n",
       "\n",
       "    .dataframe thead th {\n",
       "        text-align: right;\n",
       "    }\n",
       "</style>\n",
       "<table border=\"1\" class=\"dataframe\">\n",
       "  <thead>\n",
       "    <tr style=\"text-align: right;\">\n",
       "      <th></th>\n",
       "      <th>EntryID</th>\n",
       "      <th>term</th>\n",
       "      <th>aspect</th>\n",
       "    </tr>\n",
       "  </thead>\n",
       "  <tbody>\n",
       "    <tr>\n",
       "      <th>0</th>\n",
       "      <td>A0A009IHW8</td>\n",
       "      <td>GO:0008152</td>\n",
       "      <td>BPO</td>\n",
       "    </tr>\n",
       "    <tr>\n",
       "      <th>1</th>\n",
       "      <td>A0A009IHW8</td>\n",
       "      <td>GO:0034655</td>\n",
       "      <td>BPO</td>\n",
       "    </tr>\n",
       "    <tr>\n",
       "      <th>2</th>\n",
       "      <td>A0A009IHW8</td>\n",
       "      <td>GO:0072523</td>\n",
       "      <td>BPO</td>\n",
       "    </tr>\n",
       "    <tr>\n",
       "      <th>3</th>\n",
       "      <td>A0A009IHW8</td>\n",
       "      <td>GO:0044270</td>\n",
       "      <td>BPO</td>\n",
       "    </tr>\n",
       "    <tr>\n",
       "      <th>4</th>\n",
       "      <td>A0A009IHW8</td>\n",
       "      <td>GO:0006753</td>\n",
       "      <td>BPO</td>\n",
       "    </tr>\n",
       "  </tbody>\n",
       "</table>\n",
       "</div>"
      ],
      "text/plain": [
       "      EntryID        term aspect\n",
       "0  A0A009IHW8  GO:0008152    BPO\n",
       "1  A0A009IHW8  GO:0034655    BPO\n",
       "2  A0A009IHW8  GO:0072523    BPO\n",
       "3  A0A009IHW8  GO:0044270    BPO\n",
       "4  A0A009IHW8  GO:0006753    BPO"
      ]
     },
     "execution_count": 39,
     "metadata": {},
     "output_type": "execute_result"
    }
   ],
   "source": [
    "train_data.terms.head()"
   ]
  },
  {
   "cell_type": "code",
   "execution_count": 40,
   "id": "67844861",
   "metadata": {},
   "outputs": [
    {
     "data": {
      "text/plain": [
       "BPO    3497732\n",
       "CCO    1196017\n",
       "MFO     670114\n",
       "Name: aspect, dtype: int64"
      ]
     },
     "execution_count": 40,
     "metadata": {},
     "output_type": "execute_result"
    }
   ],
   "source": [
    "train_data.terms[\"aspect\"].value_counts()"
   ]
  },
  {
   "cell_type": "code",
   "execution_count": 41,
   "id": "52fd2352",
   "metadata": {},
   "outputs": [
    {
     "data": {
      "text/plain": [
       "GO:0005575    92912\n",
       "GO:0008150    92210\n",
       "GO:0110165    91286\n",
       "GO:0003674    78637\n",
       "GO:0005622    70785\n",
       "              ...  \n",
       "GO:0031772        1\n",
       "GO:0042324        1\n",
       "GO:0031771        1\n",
       "GO:0051041        1\n",
       "GO:0102628        1\n",
       "Name: term, Length: 31466, dtype: int64"
      ]
     },
     "execution_count": 41,
     "metadata": {},
     "output_type": "execute_result"
    }
   ],
   "source": [
    "train_data.terms[\"term\"].value_counts()"
   ]
  },
  {
   "cell_type": "code",
   "execution_count": 45,
   "id": "2fdf8bd7",
   "metadata": {},
   "outputs": [
    {
     "data": {
      "text/plain": [
       "Q02248    815\n",
       "Q62226    736\n",
       "Q01705    721\n",
       "P22725    709\n",
       "P01137    668\n",
       "         ... \n",
       "P52377      2\n",
       "Q51912      2\n",
       "A2IBF8      2\n",
       "A2IBF9      2\n",
       "F1R8A4      2\n",
       "Name: EntryID, Length: 142246, dtype: int64"
      ]
     },
     "execution_count": 45,
     "metadata": {},
     "output_type": "execute_result"
    }
   ],
   "source": [
    "train_data.terms[\"EntryID\"].value_counts()"
   ]
  },
  {
   "cell_type": "code",
   "execution_count": 55,
   "id": "1a113ad8",
   "metadata": {},
   "outputs": [],
   "source": [
    "terms_cum = train_data.terms[\"term\"].value_counts().cumsum()/len(train_data.terms)"
   ]
  },
  {
   "cell_type": "code",
   "execution_count": 58,
   "id": "9b7de389",
   "metadata": {},
   "outputs": [],
   "source": [
    "top_selected_terms = terms_cum[terms_cum<0.9]"
   ]
  },
  {
   "cell_type": "code",
   "execution_count": 59,
   "id": "02ecec2e",
   "metadata": {},
   "outputs": [
    {
     "name": "stdout",
     "output_type": "stream",
     "text": [
      "3092\n"
     ]
    }
   ],
   "source": [
    "print(len(top_selected_terms))"
   ]
  },
  {
   "cell_type": "code",
   "execution_count": 47,
   "id": "c726a9d6",
   "metadata": {},
   "outputs": [
    {
     "data": {
      "text/plain": [
       "<AxesSubplot:>"
      ]
     },
     "execution_count": 47,
     "metadata": {},
     "output_type": "execute_result"
    },
    {
     "data": {
      "image/png": "[encoded data removed]",
      "text/plain": [
       "<Figure size 432x288 with 1 Axes>"
      ]
     },
     "metadata": {
      "needs_background": "light"
     },
     "output_type": "display_data"
    }
   ],
   "source": [
    "train_data.terms[\"EntryID\"].value_counts().cumsum().plot()"
   ]
  },
  {
   "cell_type": "code",
   "execution_count": null,
   "id": "c715d880",
   "metadata": {},
   "outputs": [],
   "source": []
  }
 ],
 "metadata": {
  "kernelspec": {
   "display_name": "Python 3 (ipykernel)",
   "language": "python",
   "name": "python3"
  },
  "language_info": {
   "codemirror_mode": {
    "name": "ipython",
    "version": 3
   },
   "file_extension": ".py",
   "mimetype": "text/x-python",
   "name": "python",
   "nbconvert_exporter": "python",
   "pygments_lexer": "ipython3",
   "version": "3.9.7"
  }
 },
 "nbformat": 4,
 "nbformat_minor": 5
}
